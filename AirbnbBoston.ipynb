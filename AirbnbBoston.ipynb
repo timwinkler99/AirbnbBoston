{
 "cells": [
  {
   "attachments": {},
   "cell_type": "markdown",
   "metadata": {},
   "source": [
    "# Airbnb Boston Analysis"
   ]
  },
  {
   "attachments": {},
   "cell_type": "markdown",
   "metadata": {},
   "source": [
    "## Business Understanding\n",
    "\n",
    "1. What are the most expensive neighbourhoods in Boston?\n",
    "2. Is there a price-sesonality?\n",
    "3. Based on the reviews, are there months where people prefere to visit boston?"
   ]
  },
  {
   "attachments": {},
   "cell_type": "markdown",
   "metadata": {},
   "source": [
    "## Data Understanding"
   ]
  },
  {
   "cell_type": "code",
   "execution_count": null,
   "metadata": {},
   "outputs": [],
   "source": [
    "import numpy as np\n",
    "import pandas as pd\n",
    "import matplotlib.pyplot as plt\n",
    "from sklearn.linear_model import LinearRegression\n",
    "from sklearn.model_selection import train_test_split\n",
    "from sklearn.metrics import r2_score, mean_squared_error\n",
    "import seaborn as sns\n",
    "%matplotlib inline\n",
    "sns.set_theme(style=\"darkgrid\")\n",
    "\n",
    "\n",
    "df_calendar = pd.read_csv('./calendar.csv')\n",
    "df_listings = pd.read_csv('./listings.csv', index_col='id')\n",
    "df_reviews = pd.read_csv('./reviews.csv')"
   ]
  },
  {
   "cell_type": "code",
   "execution_count": null,
   "metadata": {},
   "outputs": [],
   "source": [
    "# remove '$' and ',' from price and convert price into float\n",
    "df_calendar['price'] = df_calendar['price'].str.replace('$','')\n",
    "df_calendar['price'] = df_calendar['price'].str.replace(',','')\n",
    "df_calendar['price'] = df_calendar['price'].astype(float)\n",
    "\n",
    "# convert date from dtype 'object' to 'date\n",
    "df_calendar['date'] = pd.to_datetime(df_calendar['date'])"
   ]
  },
  {
   "cell_type": "code",
   "execution_count": null,
   "metadata": {},
   "outputs": [],
   "source": [
    "# share of days for which no price is available\n",
    "print(\"The share of days for which the listings are unavailable is {}\".format(df_calendar['price'].isnull().sum()/df_calendar.shape[0]))"
   ]
  },
  {
   "attachments": {},
   "cell_type": "markdown",
   "metadata": {},
   "source": [
    "To work with the calendar price data, transform the data to a pivot table. **Listings for which there is no price at all available, are dropped.** Henceforth, only listings which have at least one price available are considered."
   ]
  },
  {
   "cell_type": "code",
   "execution_count": null,
   "metadata": {},
   "outputs": [],
   "source": [
    "# transfor the calendar data into a more convenient layout\n",
    "df_price = df_calendar.pivot_table(index='date',columns='listing_id',values='price')\n",
    "\n",
    "# relevant listings\n",
    "listings = df_price.columns"
   ]
  },
  {
   "cell_type": "code",
   "execution_count": null,
   "metadata": {},
   "outputs": [],
   "source": [
    "print(\"The share of listings for which there is no variability in the price is {}\".format((df_price.std()==0).sum()/df_price.shape[1]))"
   ]
  },
  {
   "cell_type": "code",
   "execution_count": null,
   "metadata": {},
   "outputs": [],
   "source": [
    "#interpolate linearly for missing values, for values at the beginning of the period use a backwardfill \n",
    "df_price = df_price.interpolate(method='linear').fillna(method='bfill')"
   ]
  },
  {
   "cell_type": "code",
   "execution_count": null,
   "metadata": {},
   "outputs": [],
   "source": [
    "def listing_mean_neighbourhood(listing_id):\n",
    "    neighbourhood = df_listings.loc[listing_id]['neighbourhood_cleansed']\n",
    "    mean_price = df_price[listing_id].mean()\n",
    "\n",
    "    return neighbourhood, mean_price"
   ]
  },
  {
   "cell_type": "code",
   "execution_count": null,
   "metadata": {},
   "outputs": [],
   "source": [
    "d = []\n",
    "\n",
    "for listing in listings:\n",
    "    neighbourhood, mean_price = listing_mean_neighbourhood(listing)\n",
    "    d.append(\n",
    "        {\n",
    "            'listing_id':listing,\n",
    "            'neighbourhood': neighbourhood,\n",
    "            'mean_price': mean_price\n",
    "        }\n",
    "    )\n",
    "\n",
    "df_listing_mean_neighbourhood = pd.DataFrame(d)"
   ]
  },
  {
   "cell_type": "code",
   "execution_count": null,
   "metadata": {},
   "outputs": [],
   "source": [
    "mean_price_by_neighbourhood = df_listing_mean_neighbourhood[['neighbourhood','mean_price']].groupby('neighbourhood').mean().sort_values(by='mean_price')\n",
    "mean_price_by_neighbourhood"
   ]
  },
  {
   "cell_type": "code",
   "execution_count": null,
   "metadata": {},
   "outputs": [],
   "source": [
    "ax = mean_price_by_neighbourhood.plot.bar(layout='constraint')\n",
    "\n",
    "plt.title('Mean Price per Neigbourhood in Boston (MA)')\n",
    "plt.savefig('mean_price_neighbor.jpeg',bbox_inches=\"tight\",dpi=600);"
   ]
  }
 ],
 "metadata": {
  "kernelspec": {
   "display_name": "Python 3",
   "language": "python",
   "name": "python3"
  },
  "language_info": {
   "codemirror_mode": {
    "name": "ipython",
    "version": 3
   },
   "file_extension": ".py",
   "mimetype": "text/x-python",
   "name": "python",
   "nbconvert_exporter": "python",
   "pygments_lexer": "ipython3",
   "version": "3.10.4"
  },
  "orig_nbformat": 4,
  "vscode": {
   "interpreter": {
    "hash": "528a34026aacc80e3fdcec18b7e636f847892d5ab0d86d58c28dbcf772c3c326"
   }
  }
 },
 "nbformat": 4,
 "nbformat_minor": 2
}
