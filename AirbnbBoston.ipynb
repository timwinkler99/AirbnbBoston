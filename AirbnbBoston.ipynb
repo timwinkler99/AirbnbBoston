{
 "cells": [
  {
   "attachments": {},
   "cell_type": "markdown",
   "metadata": {},
   "source": [
    "# Airbnb Boston Analysis"
   ]
  },
  {
   "attachments": {},
   "cell_type": "markdown",
   "metadata": {},
   "source": [
    "## Business Understanding\n",
    "\n",
    "1. What are the most expensive neighbourhoods in Boston?\n",
    "2. Is there a price-sesonality?\n",
    "3. Based on the reviews, are there months where people prefere to visit boston?"
   ]
  },
  {
   "attachments": {},
   "cell_type": "markdown",
   "metadata": {},
   "source": [
    "## Data Understanding & Preparation"
   ]
  },
  {
   "cell_type": "code",
   "execution_count": null,
   "metadata": {},
   "outputs": [],
   "source": [
    "import numpy as np\n",
    "import pandas as pd\n",
    "import matplotlib.pyplot as plt\n",
    "from sklearn.linear_model import LinearRegression\n",
    "from sklearn.model_selection import train_test_split\n",
    "from sklearn.metrics import r2_score, mean_squared_error\n",
    "import seaborn as sns\n",
    "%matplotlib inline\n",
    "sns.set_theme(style=\"darkgrid\")\n",
    "\n",
    "from datetime import datetime\n",
    "\n",
    "\n",
    "df_calendar = pd.read_csv('./calendar.csv')\n",
    "df_listings = pd.read_csv('./listings.csv', index_col='id')\n",
    "df_reviews = pd.read_csv('./reviews.csv')"
   ]
  },
  {
   "cell_type": "code",
   "execution_count": null,
   "metadata": {},
   "outputs": [],
   "source": [
    "# remove '$' and ',' from price and convert price into float\n",
    "df_calendar['price'] = df_calendar['price'].str.replace('$','')\n",
    "df_calendar['price'] = df_calendar['price'].str.replace(',','')\n",
    "df_calendar['price'] = df_calendar['price'].astype(float)\n",
    "\n",
    "# convert date from dtype 'object' to 'date\n",
    "df_calendar['date'] = pd.to_datetime(df_calendar['date'])"
   ]
  },
  {
   "cell_type": "code",
   "execution_count": null,
   "metadata": {},
   "outputs": [],
   "source": [
    "# share of days for which no price is available\n",
    "print(\"The share of days for which the listings are unavailable is {}\".format(df_calendar['price'].isnull().sum()/df_calendar.shape[0]))"
   ]
  },
  {
   "attachments": {},
   "cell_type": "markdown",
   "metadata": {},
   "source": [
    "To work with the calendar price data, transform the data to a pivot table. **Listings for which there is no price at all available, are dropped.** Henceforth, only listings which have at least one price available are considered."
   ]
  },
  {
   "cell_type": "code",
   "execution_count": null,
   "metadata": {},
   "outputs": [],
   "source": [
    "# transfor the calendar data into a more convenient layout\n",
    "df_price = df_calendar.pivot_table(index='date',columns='listing_id',values='price')\n",
    "\n",
    "# relevant listings\n",
    "listings = df_price.columns"
   ]
  },
  {
   "cell_type": "code",
   "execution_count": null,
   "metadata": {},
   "outputs": [],
   "source": [
    "print(\"The share of listings for which there is no variability in the price is {}\".format((df_price.std()==0).sum()/df_price.shape[1]))"
   ]
  },
  {
   "cell_type": "code",
   "execution_count": null,
   "metadata": {},
   "outputs": [],
   "source": [
    "#interpolate linearly for missing values, for values at the beginning of the period use a backwardfill \n",
    "df_price = df_price.interpolate(method='linear').fillna(method='bfill')"
   ]
  },
  {
   "cell_type": "code",
   "execution_count": null,
   "metadata": {},
   "outputs": [],
   "source": [
    "def listing_mean_neighbourhood(listing_id):\n",
    "    neighbourhood = df_listings.loc[listing_id]['neighbourhood_cleansed']\n",
    "    mean_price = df_price[listing_id].mean()\n",
    "\n",
    "    return neighbourhood, mean_price"
   ]
  },
  {
   "cell_type": "code",
   "execution_count": null,
   "metadata": {},
   "outputs": [],
   "source": [
    "d = []\n",
    "\n",
    "for listing in listings:\n",
    "    neighbourhood, mean_price = listing_mean_neighbourhood(listing)\n",
    "    d.append(\n",
    "        {\n",
    "            'listing_id':listing,\n",
    "            'neighbourhood': neighbourhood,\n",
    "            'mean_price': mean_price\n",
    "        }\n",
    "    )\n",
    "\n",
    "df_listing_mean_neighbourhood = pd.DataFrame(d)"
   ]
  },
  {
   "cell_type": "code",
   "execution_count": null,
   "metadata": {},
   "outputs": [],
   "source": [
    "mean_price_by_neighbourhood = df_listing_mean_neighbourhood[['neighbourhood','mean_price']].groupby('neighbourhood').mean().sort_values(by='mean_price')\n",
    "mean_price_by_neighbourhood"
   ]
  },
  {
   "cell_type": "code",
   "execution_count": null,
   "metadata": {},
   "outputs": [],
   "source": [
    "ax = mean_price_by_neighbourhood.plot.bar(layout='constraint')\n",
    "\n",
    "plt.title('Mean Aribnb Price per Neigbourhood in Boston (MA)')\n",
    "plt.savefig('mean_price_neighbor.jpeg',bbox_inches=\"tight\",dpi=600);"
   ]
  },
  {
   "cell_type": "code",
   "execution_count": null,
   "metadata": {},
   "outputs": [],
   "source": [
    "ax = df_price.mean(axis=1).plot(layout='constraint')\n",
    "\n",
    "plt.title('Mean Airbnb Price per Night in Boston (MA)')\n",
    "plt.savefig('mean_price_per_night.jpeg',bbox_inches=\"tight\",dpi=600);"
   ]
  },
  {
   "attachments": {},
   "cell_type": "markdown",
   "metadata": {},
   "source": [
    "## Data Modeling"
   ]
  },
  {
   "attachments": {},
   "cell_type": "markdown",
   "metadata": {},
   "source": [
    "Adressing question #3 is more complex than questions #1 & #2. The goal is to use features of the listing (type, rooms, neigborhood, ...) and reviews (no. of reviews per listing, frequency of reviews, ...) to predict the price of a given listing on the day the `listings.csv` data has beeen scraped. To start modeling we have to decide on features we want to include in the model."
   ]
  },
  {
   "cell_type": "code",
   "execution_count": null,
   "metadata": {},
   "outputs": [],
   "source": [
    "df_listings_red = df_listings[[\n",
    "                    'last_scraped',\n",
    "                    'host_since',\n",
    "                    'host_response_time',\n",
    "                    'host_response_rate',\n",
    "                    'host_acceptance_rate',\n",
    "                    'host_is_superhost',\n",
    "                    'host_listings_count',\n",
    "                    'host_verifications',\n",
    "                    'host_has_profile_pic',\n",
    "                    'host_identity_verified',\n",
    "                    'neighbourhood_cleansed',\n",
    "                    'property_type',\n",
    "                    'room_type',\n",
    "                    'accommodates',\n",
    "                    'bathrooms',\n",
    "                    'bedrooms',\n",
    "                    'beds',\n",
    "                    'bed_type',\n",
    "                    'amenities',\n",
    "                    'price',\n",
    "                    'cleaning_fee',\n",
    "                    'guests_included',\n",
    "                    'minimum_nights',\n",
    "                    'review_scores_rating',\n",
    "                    'review_scores_accuracy',\n",
    "                    'review_scores_cleanliness',\n",
    "                    'review_scores_checkin',\n",
    "                    'review_scores_communication',\n",
    "                    'review_scores_location',\n",
    "                    'review_scores_value',\n",
    "                    'cancellation_policy',\n",
    "                    'reviews_per_month']].copy()"
   ]
  },
  {
   "attachments": {},
   "cell_type": "markdown",
   "metadata": {},
   "source": [
    "First we have to prepare the columns that are in the wrong format, e.g., turn host_since into the date difference relative to 2016-09-07 in days, and convert numbers with '$' or '%' sign."
   ]
  },
  {
   "cell_type": "code",
   "execution_count": null,
   "metadata": {},
   "outputs": [],
   "source": [
    "#convert last_scraped and host_since to datetime\n",
    "df_listings_red[['last_scraped','host_since']] = df_listings_red[['last_scraped','host_since']].apply(pd.to_datetime)\n",
    "\n",
    "#calculate host_since in days\n",
    "df_listings_red['host_since_days'] = (df_listings_red['last_scraped'] - df_listings_red['host_since']) / np.timedelta64(1, 'D')"
   ]
  },
  {
   "cell_type": "code",
   "execution_count": null,
   "metadata": {},
   "outputs": [],
   "source": [
    "#remove % sign from rate columns and convert them to dtype float\n",
    "def convert_rate(df: pd.DataFrame, cols: list):\n",
    "    \n",
    "    \"\"\"\n",
    "    Remove '%' sign and convert column to float between 0 and 1\n",
    "    # Parameters\n",
    "    df:     dataframe of interest\n",
    "    cols:   list of columns which feature rates\n",
    "    \"\"\"\n",
    "\n",
    "    for col in cols:\n",
    "        df[col] = df[col].str.replace('%','')\n",
    "        df[col] = df[col].astype(float)/100\n",
    "\n",
    "#remove $ sign and , as seperator and turn dollar amount columns into float\n",
    "def convert_dollar(df: pd.DataFrame, cols: list):\n",
    "\n",
    "    \"\"\"\n",
    "    Remove '$' and ',' sign and convert column to float\n",
    "    # Parameters\n",
    "    df:     dataframe of interest\n",
    "    cols:   list of columns which feature rates\n",
    "    \"\"\"\n",
    "\n",
    "    for col in cols:\n",
    "        df[col] = df[col].str.replace('$','')\n",
    "        df[col] = df[col].str.replace(',','')\n",
    "        df[col] = df[col].astype(float)"
   ]
  },
  {
   "cell_type": "code",
   "execution_count": null,
   "metadata": {},
   "outputs": [],
   "source": [
    "convert_rate(df_listings_red,['host_response_rate', 'host_acceptance_rate'])\n",
    "convert_dollar(df_listings_red,['price', 'cleaning_fee'])"
   ]
  }
 ],
 "metadata": {
  "kernelspec": {
   "display_name": "Python 3",
   "language": "python",
   "name": "python3"
  },
  "language_info": {
   "codemirror_mode": {
    "name": "ipython",
    "version": 3
   },
   "file_extension": ".py",
   "mimetype": "text/x-python",
   "name": "python",
   "nbconvert_exporter": "python",
   "pygments_lexer": "ipython3",
   "version": "3.10.4"
  },
  "orig_nbformat": 4,
  "vscode": {
   "interpreter": {
    "hash": "528a34026aacc80e3fdcec18b7e636f847892d5ab0d86d58c28dbcf772c3c326"
   }
  }
 },
 "nbformat": 4,
 "nbformat_minor": 2
}
